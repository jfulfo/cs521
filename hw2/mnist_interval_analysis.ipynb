{
 "cells": [
  {
   "cell_type": "markdown",
   "id": "bbe70a96",
   "metadata": {},
   "source": [
    "## Interval Analysis"
   ]
  },
  {
   "cell_type": "markdown",
   "id": "b33cb3f5",
   "metadata": {},
   "source": []
  },
  {
   "cell_type": "code",
   "execution_count": null,
   "id": "6bbda12e",
   "metadata": {},
   "outputs": [
    {
     "data": {
      "text/plain": [
       "Network(\n",
       "  (0): Linear(in_features=784, out_features=200, bias=True)\n",
       "  (1): ReLU()\n",
       "  (2): Linear(in_features=200, out_features=10, bias=True)\n",
       ")"
      ]
     },
     "execution_count": 51,
     "metadata": {},
     "output_type": "execute_result"
    }
   ],
   "source": [
    "# !pip install tensorboardX\n",
    "\n",
    "import torch\n",
    "import torch.nn as nn\n",
    "import torch.optim as optim\n",
    "import torch.nn.functional as F\n",
    "import numpy as np\n",
    "import time\n",
    "import matplotlib.pyplot as plt\n",
    "\n",
    "from torchvision import datasets, transforms\n",
    "# from tensorboardX import SummaryWriter\n",
    "\n",
    "use_cuda = False\n",
    "device = torch.device(\"cuda\" if use_cuda else \"cpu\")\n",
    "batch_size = 64\n",
    "\n",
    "np.random.seed(42)\n",
    "torch.manual_seed(42)\n",
    "\n",
    "\n",
    "## Dataloaders\n",
    "train_dataset = datasets.MNIST('mnist_data/', train=True, download=True, transform=transforms.Compose(\n",
    "    [transforms.ToTensor(), transforms.Normalize((0.1307,), (0.3081,)), transforms.Lambda(torch.flatten)]\n",
    "))\n",
    "test_dataset = datasets.MNIST('mnist_data/', train=False, download=True, transform=transforms.Compose(\n",
    "    [transforms.ToTensor(), transforms.Normalize((0.1307,), (0.3081,)), transforms.Lambda(torch.flatten)]\n",
    "))\n",
    "\n",
    "train_loader = torch.utils.data.DataLoader(train_dataset, batch_size=batch_size, shuffle=True)\n",
    "test_loader = torch.utils.data.DataLoader(test_dataset, batch_size=batch_size, shuffle=False)\n",
    "\n",
    "## Simple NN. You can change this if you want. If you change it, mention the architectural details in your report.\n",
    "class Net(nn.Module):\n",
    "    def __init__(self):\n",
    "        super(Net, self).__init__()\n",
    "        self.fc = nn.Linear(28*28, 200)\n",
    "        self.fc2 = nn.Linear(200,10)\n",
    "\n",
    "    def forward(self, x):\n",
    "        x = x.view((-1, 28*28))\n",
    "        x = F.relu(self.fc(x))\n",
    "        x = self.fc2(x)\n",
    "        return x\n",
    "\n",
    "class Normalize(nn.Module):\n",
    "    def forward(self, x):\n",
    "        return (x - 0.1307)/0.3081\n",
    "\n",
    "# Add the data normalization as a first \"layer\" to the network\n",
    "# this allows us to search for adverserial examples to the real image, rather than\n",
    "# to the normalized image\n",
    "class Network(nn.Sequential):\n",
    "    def __init__(self):\n",
    "        in_size = 28*28\n",
    "        classes = 10\n",
    "\n",
    "        super().__init__(\n",
    "            nn.Linear(in_size, 200),\n",
    "            nn.ReLU(),\n",
    "            nn.Linear(200, classes)\n",
    "        )\n",
    "\n",
    "#model = nn.Sequential(Normalize(), Net())\n",
    "model = Network()\n",
    "\n",
    "model = model.to(device)\n",
    "model.train()\n"
   ]
  },
  {
   "cell_type": "code",
   "execution_count": 52,
   "id": "0a6282f7",
   "metadata": {},
   "outputs": [],
   "source": [
    "def train_model(model, num_epochs):\n",
    "    criterion = nn.CrossEntropyLoss()\n",
    "    optimizer = optim.SGD(model.parameters(), lr=0.001, momentum=0.9)\n",
    "\n",
    "    for epoch in range(num_epochs):\n",
    "        model.train()\n",
    "        running_loss = 0.0\n",
    "        for i, data in enumerate(train_loader, 0):\n",
    "            images, labels = data\n",
    "            images, labels = images.to(device), labels.to(device)\n",
    "\n",
    "            optimizer.zero_grad()\n",
    "            outputs = model(images)\n",
    "            loss = criterion(outputs, labels)\n",
    "            loss.backward()\n",
    "            optimizer.step()\n",
    "\n",
    "            running_loss += loss.item()\n",
    "\n",
    "        print(f'Epoch {epoch+1}/{num_epochs}, Loss: {running_loss/len(train_loader):.3f}')\n",
    "\n",
    "def test_model(model):\n",
    "    model.eval()\n",
    "    with torch.no_grad():\n",
    "        correct = 0\n",
    "        total = 0\n",
    "        for data in test_loader:\n",
    "            images, labels = data\n",
    "            images, labels = images.to(device), labels.to(device)\n",
    "            outputs = model(images)\n",
    "            _, predicted = torch.max(outputs.data, 1)\n",
    "            total += labels.size(0)\n",
    "            correct += (predicted == labels).sum().item()\n",
    "        print(f'Accuracy on images: {100 * correct / total}')"
   ]
  },
  {
   "cell_type": "code",
   "execution_count": 53,
   "id": "72dd8bd6",
   "metadata": {},
   "outputs": [
    {
     "name": "stdout",
     "output_type": "stream",
     "text": [
      "Epoch 1/15, Loss: 0.593\n",
      "Epoch 2/15, Loss: 0.297\n",
      "Epoch 3/15, Loss: 0.248\n",
      "Epoch 4/15, Loss: 0.215\n",
      "Epoch 5/15, Loss: 0.190\n",
      "Epoch 6/15, Loss: 0.170\n",
      "Epoch 7/15, Loss: 0.155\n",
      "Epoch 8/15, Loss: 0.142\n",
      "Epoch 9/15, Loss: 0.130\n",
      "Epoch 10/15, Loss: 0.121\n",
      "Epoch 11/15, Loss: 0.113\n",
      "Epoch 12/15, Loss: 0.106\n",
      "Epoch 13/15, Loss: 0.099\n",
      "Epoch 14/15, Loss: 0.093\n",
      "Epoch 15/15, Loss: 0.088\n",
      "Accuracy on images: 97.07\n"
     ]
    }
   ],
   "source": [
    "train_model(model, 15)\n",
    "test_model(model)"
   ]
  },
  {
   "cell_type": "markdown",
   "id": "c7c23f92",
   "metadata": {},
   "source": [
    "### Write the interval analysis for the simple model"
   ]
  },
  {
   "cell_type": "code",
   "execution_count": 59,
   "id": "d97f7f25",
   "metadata": {},
   "outputs": [
    {
     "name": "stdout",
     "output_type": "stream",
     "text": [
      "epsilon: 0.01, verified accuracy: 79.49000000000001\n",
      "epsilon: 0.02, verified accuracy: 28.37\n",
      "epsilon: 0.03, verified accuracy: 5.5\n",
      "epsilon: 0.04, verified accuracy: 1.0999999999999999\n",
      "epsilon: 0.05, verified accuracy: 0.18\n",
      "epsilon: 0.06, verified accuracy: 0.01\n",
      "epsilon: 0.07, verified accuracy: 0.0\n",
      "epsilon: 0.08, verified accuracy: 0.0\n",
      "epsilon: 0.09, verified accuracy: 0.0\n",
      "epsilon: 0.10, verified accuracy: 0.0\n"
     ]
    }
   ],
   "source": [
    "## TODO: Write the interval analysis for the simple model\n",
    "## you can use https://github.com/Zinoex/bound_propagation\n",
    "from bound_propagation import BoundModelFactory, HyperRectangle\n",
    "\n",
    "factory = BoundModelFactory()\n",
    "bound_model = factory.build(model)\n",
    "\n",
    "epsilons = np.linspace(0.01, 0.1, 10)\n",
    "for eps in epsilons:\n",
    "  correct = 0\n",
    "  total = 0\n",
    "  for data in test_loader:\n",
    "    images, labels = data\n",
    "    images, labels = images.to(device), labels.to(device)\n",
    "    outputs = model(images)\n",
    "    _, predicted = torch.max(outputs.data, 1)\n",
    "    total += labels.size(0)\n",
    "    mask = predicted == labels\n",
    "\n",
    "    correct_images = images[mask]\n",
    "    correct_labels = labels[mask]\n",
    "    input_bounds = HyperRectangle.from_eps(correct_images, eps)\n",
    "    ibp_bounds = bound_model.ibp(input_bounds)\n",
    "    for i in range(len(correct_labels)):\n",
    "      target = correct_labels[i].item()\n",
    "      verified = True\n",
    "      for j in range(10):\n",
    "        if j != target:\n",
    "          if ibp_bounds.lower[i, target] <= ibp_bounds.upper[i, j]:\n",
    "            verified = False\n",
    "            break\n",
    "      if verified: correct += 1\n",
    "  \n",
    "  print(f\"epsilon: {eps:.2f}, verified accuracy: {correct/total * 100}\")\n"
   ]
  }
 ],
 "metadata": {
  "kernelspec": {
   "display_name": "venv",
   "language": "python",
   "name": "python3"
  },
  "language_info": {
   "codemirror_mode": {
    "name": "ipython",
    "version": 3
   },
   "file_extension": ".py",
   "mimetype": "text/x-python",
   "name": "python",
   "nbconvert_exporter": "python",
   "pygments_lexer": "ipython3",
   "version": "3.13.5"
  }
 },
 "nbformat": 4,
 "nbformat_minor": 5
}
